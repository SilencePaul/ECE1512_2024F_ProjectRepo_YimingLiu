{
 "cells": [
  {
   "cell_type": "code",
   "execution_count": 11,
   "metadata": {},
   "outputs": [],
   "source": [
    "import torch\n",
    "import torch.nn as nn\n",
    "import torch.nn.functional as F\n",
    "# Acknowledgement to\n",
    "# https://github.com/kuangliu/pytorch-cifar,\n",
    "# https://github.com/BIGBALLON/CIFAR-ZOO,\n",
    "\n",
    "''' Swish activation '''\n",
    "class Swish(nn.Module): # Swish(x) = x∗σ(x)\n",
    "    def __init__(self):\n",
    "        super().__init__()\n",
    "\n",
    "    def forward(self, input):\n",
    "        return input * torch.sigmoid(input)\n",
    "\n",
    "\n",
    "class ConvNet(nn.Module):\n",
    "    def __init__(self, channel, num_classes, net_width, net_depth, net_act, net_norm, net_pooling, im_size = (32,32)):\n",
    "        super(ConvNet, self).__init__()\n",
    "\n",
    "        self.features, shape_feat = self._make_layers(channel, net_width, net_depth, net_norm, net_act, net_pooling, im_size)\n",
    "        num_feat = shape_feat[0]*shape_feat[1]*shape_feat[2]\n",
    "        self.classifier = nn.Linear(num_feat, num_classes)\n",
    "\n",
    "    def forward(self, x):\n",
    "        out = self.features(x)\n",
    "        out = out.view(out.size(0), -1)\n",
    "        out = self.classifier(out)\n",
    "        return out\n",
    "\n",
    "    def embed(self, x):\n",
    "        out = self.features(x)\n",
    "        out = out.view(out.size(0), -1)\n",
    "        return out\n",
    "\n",
    "    def _get_activation(self, net_act):\n",
    "        if net_act == 'sigmoid':\n",
    "            return nn.Sigmoid()\n",
    "        elif net_act == 'relu':\n",
    "            return nn.ReLU(inplace=True)\n",
    "        elif net_act == 'leakyrelu':\n",
    "            return nn.LeakyReLU(negative_slope=0.01)\n",
    "        elif net_act == 'swish':\n",
    "            return Swish()\n",
    "        else:\n",
    "            exit('unknown activation function: %s'%net_act)\n",
    "\n",
    "    def _get_pooling(self, net_pooling):\n",
    "        if net_pooling == 'maxpooling':\n",
    "            return nn.MaxPool2d(kernel_size=2, stride=2)\n",
    "        elif net_pooling == 'avgpooling':\n",
    "            return nn.AvgPool2d(kernel_size=2, stride=2)\n",
    "        elif net_pooling == 'none':\n",
    "            return None\n",
    "        else:\n",
    "            exit('unknown net_pooling: %s'%net_pooling)\n",
    "\n",
    "    def _get_normlayer(self, net_norm, shape_feat):\n",
    "        # shape_feat = (c*h*w)\n",
    "        if net_norm == 'batchnorm':\n",
    "            return nn.BatchNorm2d(shape_feat[0], affine=True)\n",
    "        elif net_norm == 'layernorm':\n",
    "            return nn.LayerNorm(shape_feat, elementwise_affine=True)\n",
    "        elif net_norm == 'instancenorm':\n",
    "            return nn.GroupNorm(shape_feat[0], shape_feat[0], affine=True)\n",
    "        elif net_norm == 'groupnorm':\n",
    "            return nn.GroupNorm(4, shape_feat[0], affine=True)\n",
    "        elif net_norm == 'none':\n",
    "            return None\n",
    "        else:\n",
    "            exit('unknown net_norm: %s'%net_norm)\n",
    "\n",
    "    def _make_layers(self, channel, net_width, net_depth, net_norm, net_act, net_pooling, im_size):\n",
    "        layers = []\n",
    "        in_channels = channel\n",
    "        if im_size[0] == 28:\n",
    "            im_size = (32, 32)\n",
    "        shape_feat = [in_channels, im_size[0], im_size[1]]\n",
    "        for d in range(net_depth):\n",
    "            layers += [nn.Conv2d(in_channels, net_width, kernel_size=3, padding=3 if channel == 1 and d == 0 else 1)]\n",
    "            shape_feat[0] = net_width\n",
    "            if net_norm != 'none':\n",
    "                layers += [self._get_normlayer(net_norm, shape_feat)]\n",
    "            layers += [self._get_activation(net_act)]\n",
    "            in_channels = net_width\n",
    "            if net_pooling != 'none':\n",
    "                layers += [self._get_pooling(net_pooling)]\n",
    "                shape_feat[1] //= 2\n",
    "                shape_feat[2] //= 2\n",
    "\n",
    "        return nn.Sequential(*layers), shape_feat"
   ]
  },
  {
   "cell_type": "code",
   "execution_count": null,
   "metadata": {},
   "outputs": [],
   "source": [
    "# Parameters\n",
    "channel = 1\n",
    "num_classes = 10\n",
    "net_width = 64\n",
    "net_depth = 3\n",
    "net_act = 'relu'\n",
    "net_norm = 'batchnorm'\n",
    "net_pooling = 'maxpooling'\n",
    "im_size = (28, 28) \n",
    "\n",
    "convNet3 = ConvNet(channel, num_classes, net_width, 3, net_act, net_norm, net_pooling, im_size)"
   ]
  },
  {
   "cell_type": "code",
   "execution_count": null,
   "metadata": {},
   "outputs": [
    {
     "name": "stderr",
     "output_type": "stream",
     "text": [
      "C:\\Users\\Paul\\AppData\\Local\\Temp\\ipykernel_102732\\3794286692.py:3: FutureWarning: You are using `torch.load` with `weights_only=False` (the current default value), which uses the default pickle module implicitly. It is possible to construct malicious pickle data which will execute arbitrary code during unpickling (See https://github.com/pytorch/pytorch/blob/main/SECURITY.md#untrusted-models for more details). In a future release, the default value for `weights_only` will be flipped to `True`. This limits the functions that could be executed during unpickling. Arbitrary objects will no longer be allowed to be loaded via this mode unless they are explicitly allowlisted by the user via `torch.serialization.add_safe_globals`. We recommend you start setting `weights_only=True` for any use case where you don't have full control of the loaded file. Please open an issue on GitHub for any issues related to this experimental feature.\n",
      "  image_syn_eval_loaded, label_syn_eval_loaded = torch.load('image_syn_eval.pt')\n"
     ]
    }
   ],
   "source": [
    "import torch\n",
    "image_syn_eval_loaded, label_syn_eval_loaded = torch.load('image_syn_eval.pt')\n"
   ]
  },
  {
   "cell_type": "code",
   "execution_count": 14,
   "metadata": {},
   "outputs": [],
   "source": [
    "import torch.optim as optim\n",
    "criterion = nn.CrossEntropyLoss()\n",
    "optimizer = optim.Adam(convNet3.parameters(), lr=0.001)"
   ]
  },
  {
   "cell_type": "code",
   "execution_count": null,
   "metadata": {},
   "outputs": [],
   "source": [
    "from torch.utils.data import TensorDataset, DataLoader, random_split\n",
    "num_tasks = 5\n",
    "task_datasets = random_split(TensorDataset(image_syn_eval_loaded, label_syn_eval_loaded), [len(image_syn_eval_loaded) // num_tasks] * num_tasks)\n",
    "task_performance = []"
   ]
  },
  {
   "cell_type": "code",
   "execution_count": null,
   "metadata": {},
   "outputs": [
    {
     "name": "stdout",
     "output_type": "stream",
     "text": [
      "Training on task 1\n",
      "Task 1 accuracies: [100.0]\n",
      "Training on task 2\n",
      "Task 2 accuracies: [100.0, 100.0]\n",
      "Training on task 3\n",
      "Task 3 accuracies: [85.0, 85.0, 100.0]\n",
      "Training on task 4\n",
      "Task 4 accuracies: [80.0, 60.0, 95.0, 90.0]\n",
      "Training on task 5\n",
      "Task 5 accuracies: [85.0, 75.0, 75.0, 75.0, 70.0]\n",
      "Continual learning simulation complete.\n"
     ]
    }
   ],
   "source": [
    "# Continual learning simulation\n",
    "for task_id, task_data in enumerate(task_datasets):\n",
    "    print(f\"Training on task {task_id + 1}\")\n",
    "    task_loader = DataLoader(task_data, batch_size=32, shuffle=True)\n",
    "    \n",
    "    for epoch in range(5):\n",
    "        for inputs, targets in task_loader:\n",
    "            inputs = inputs.view(-1, channel, *im_size)\n",
    "            optimizer.zero_grad()\n",
    "            outputs = convNet3(inputs)\n",
    "            loss = criterion(outputs, targets)\n",
    "            loss.backward()\n",
    "            optimizer.step()\n",
    "\n",
    "    task_accuracy = []\n",
    "    with torch.no_grad():\n",
    "        for seen_task in range(task_id + 1):\n",
    "            seen_loader = DataLoader(task_datasets[seen_task], batch_size=32)\n",
    "            correct, total = 0, 0\n",
    "            for inputs, targets in seen_loader:\n",
    "                inputs = inputs.view(-1, channel, *im_size)\n",
    "                outputs = convNet3(inputs)\n",
    "                _, predicted = torch.max(outputs, 1)\n",
    "                total += targets.size(0)\n",
    "                correct += (predicted == targets).sum().item()\n",
    "            accuracy = 100 * correct / total\n",
    "            task_accuracy.append(accuracy)\n",
    "        task_performance.append(task_accuracy)\n",
    "        print(f\"Task {task_id + 1} accuracies: {task_accuracy}\")\n",
    "        \n",
    "torch.save({'task_performance': task_performance}, 'continual_learning_results.pt')\n",
    "\n",
    "print(\"Continual learning simulation complete.\")"
   ]
  }
 ],
 "metadata": {
  "kernelspec": {
   "display_name": "Python 3",
   "language": "python",
   "name": "python3"
  },
  "language_info": {
   "codemirror_mode": {
    "name": "ipython",
    "version": 3
   },
   "file_extension": ".py",
   "mimetype": "text/x-python",
   "name": "python",
   "nbconvert_exporter": "python",
   "pygments_lexer": "ipython3",
   "version": "3.11.9"
  }
 },
 "nbformat": 4,
 "nbformat_minor": 2
}
